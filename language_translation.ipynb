{
 "cells": [
  {
   "cell_type": "code",
   "execution_count": 20,
   "id": "978600aa-a136-4e64-a201-2840142d99a9",
   "metadata": {},
   "outputs": [],
   "source": [
    "import speech_recognition as spr\n",
    "from googletrans import Translator\n",
    "from gtts import gTTS\n",
    "import os"
   ]
  },
  {
   "cell_type": "code",
   "execution_count": 24,
   "id": "9c03945a-0320-43d9-b201-52c1d494a22c",
   "metadata": {},
   "outputs": [
    {
     "name": "stdout",
     "output_type": "stream",
     "text": [
      "Collecting pyaudio\n",
      "  Downloading PyAudio-0.2.14-cp312-cp312-win_amd64.whl.metadata (2.7 kB)\n",
      "Downloading PyAudio-0.2.14-cp312-cp312-win_amd64.whl (164 kB)\n",
      "Installing collected packages: pyaudio\n",
      "Successfully installed pyaudio-0.2.14\n"
     ]
    }
   ],
   "source": [
    "!pip install pyaudio"
   ]
  },
  {
   "cell_type": "code",
   "execution_count": 30,
   "id": "a1c2e975-64b0-4399-98d2-3998a4c32046",
   "metadata": {},
   "outputs": [],
   "source": [
    "recog1=spr.Recognizer()\n",
    "mc=spr.Microphone()"
   ]
  },
  {
   "cell_type": "code",
   "execution_count": 32,
   "id": "36d89355-847f-438f-8780-f23a04234d5f",
   "metadata": {},
   "outputs": [],
   "source": [
    "def recognize_speech(recog, source):\n",
    "    try:\n",
    "        recog.adjust_for_ambient_noise(source, duration=0.2)\n",
    "        audio = recog.listen(source)\n",
    "        recognized_text = recog.recognize_google(audio)\n",
    "        return recognized_text\n",
    "    except spr.UnknownValueError:\n",
    "        print(\"Google Speech Recognition could not understand the audio.\")\n",
    "        return None\n",
    "    except spr.RequestError as e:\n",
    "        print(f\"Could not request results from Google Speech Recognition service; {e}\")\n",
    "        return None"
   ]
  },
  {
   "cell_type": "code",
   "execution_count": 50,
   "id": "586b09b2-6358-4ef5-a073-75df0e523f6b",
   "metadata": {},
   "outputs": [
    {
     "name": "stdin",
     "output_type": "stream",
     "text": [
      "Enter the target language (e.g., 'Hindi', 'Telugu', 'Tamil'):  Telugu\n"
     ]
    }
   ],
   "source": [
    "target_language_input = input(\"Enter the target language (e.g., 'Hindi', 'Telugu', 'Tamil'): \").strip()"
   ]
  },
  {
   "cell_type": "code",
   "execution_count": 52,
   "id": "5a1e961d-ebbc-4ada-b0f3-d1f11e614b1e",
   "metadata": {},
   "outputs": [],
   "source": [
    "language_map = {\n",
    "    'Hindi': 'hi',\n",
    "    'Telugu': 'te',\n",
    "    'Kannada': 'kn',\n",
    "    'Tamil': 'ta',\n",
    "    'Malayalam': 'ml',\n",
    "    'Bengali': 'bn'\n",
    "}\n"
   ]
  },
  {
   "cell_type": "code",
   "execution_count": 66,
   "id": "0ab10a04-1881-4f08-874d-927715b96b25",
   "metadata": {},
   "outputs": [
    {
     "name": "stdout",
     "output_type": "stream",
     "text": [
      "Speak now for language detection and translation...\n",
      "Recognized Text: bade bade shahron mein se Chhoti Chhoti baten hoti rahti\n",
      "Detected Language: hi\n",
      "Translated Text in Telugu: చిన్న విషయాలు పెద్ద నగరాల్లో జరుగుతాయి\n"
     ]
    }
   ],
   "source": [
    "if target_language_input not in language_map:\n",
    "    print(f\"Invalid language: {target_language_input}. Exiting.\")\n",
    "else:\n",
    "    target_language_code = language_map[target_language_input]\n",
    "    with mc as source:\n",
    "        print(\"Speak now for language detection and translation...\")\n",
    "        MyText = recognize_speech(recog1, source)\n",
    "    if MyText:\n",
    "        print(f\"Recognized Text: {MyText}\")\n",
    "        translator = Translator()\n",
    "        detected_language = translator.detect(MyText).lang\n",
    "        print(f\"Detected Language: {detected_language}\")\n",
    "        try:\n",
    "            if not os.path.exists('outputs'):\n",
    "                os.makedirs('outputs') \n",
    "            text_to_translate = translator.translate(MyText, src=detected_language, dest=target_language_code)\n",
    "            if text_to_translate is None:\n",
    "                print(f\"Translation to {target_language_input} failed; received None.\")\n",
    "            else:\n",
    "                translated_text = text_to_translate.text\n",
    "                print(f\"Translated Text in {target_language_input}: {translated_text}\")\n",
    "                speak = gTTS(text=translated_text, lang=target_language_code, slow=False)\n",
    "                audio_file = f\"outputs/captured_voice_{target_language_input}.mp3\"\n",
    "                speak.save(audio_file)\n",
    "                os.system(f\"start {audio_file}\")  \n",
    "        except Exception as e:\n",
    "            print(f\"An error occurred during translation: {e}\")\n",
    "    else:\n",
    "        print(\"No speech input detected. Exiting.\")"
   ]
  },
  {
   "cell_type": "code",
   "execution_count": null,
   "id": "0f2d7a73-4c42-439f-ac41-e8f4c2129584",
   "metadata": {},
   "outputs": [],
   "source": []
  }
 ],
 "metadata": {
  "kernelspec": {
   "display_name": "Python 3 (ipykernel)",
   "language": "python",
   "name": "python3"
  },
  "language_info": {
   "codemirror_mode": {
    "name": "ipython",
    "version": 3
   },
   "file_extension": ".py",
   "mimetype": "text/x-python",
   "name": "python",
   "nbconvert_exporter": "python",
   "pygments_lexer": "ipython3",
   "version": "3.12.4"
  }
 },
 "nbformat": 4,
 "nbformat_minor": 5
}
